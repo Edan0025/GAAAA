{
  "cells": [
    {
      "cell_type": "markdown",
      "id": "bf472169-6e43-457a-9f03-5d2ba114f047",
      "metadata": {
        "id": "bf472169-6e43-457a-9f03-5d2ba114f047"
      },
      "source": [
        "**Tarea_5_ASIES**\n",
        "1.   "
      ]
    },
    {
      "cell_type": "code",
      "source": [
        "!pip install pulp"
      ],
      "metadata": {
        "colab": {
          "base_uri": "https://localhost:8080/"
        },
        "id": "qvIyCRM0amOb",
        "outputId": "c4a90eab-00e4-4a51-8e68-0a16c4d29748"
      },
      "id": "qvIyCRM0amOb",
      "execution_count": 2,
      "outputs": [
        {
          "output_type": "stream",
          "name": "stdout",
          "text": [
            "Collecting pulp\n",
            "  Downloading PuLP-2.8.0-py3-none-any.whl (17.7 MB)\n",
            "\u001b[2K     \u001b[90m━━━━━━━━━━━━━━━━━━━━━━━━━━━━━━━━━━━━━━━━\u001b[0m \u001b[32m17.7/17.7 MB\u001b[0m \u001b[31m41.4 MB/s\u001b[0m eta \u001b[36m0:00:00\u001b[0m\n",
            "\u001b[?25hInstalling collected packages: pulp\n",
            "Successfully installed pulp-2.8.0\n"
          ]
        }
      ]
    },
    {
      "cell_type": "code",
      "source": [
        "!pip install glpk"
      ],
      "metadata": {
        "colab": {
          "base_uri": "https://localhost:8080/"
        },
        "id": "DWCHw4DRaybI",
        "outputId": "8222b77c-6bca-410f-ca3a-eed9bea0cea5"
      },
      "id": "DWCHw4DRaybI",
      "execution_count": 3,
      "outputs": [
        {
          "output_type": "stream",
          "name": "stdout",
          "text": [
            "Collecting glpk\n",
            "  Downloading glpk-0.4.7.tar.gz (161 kB)\n",
            "\u001b[?25l     \u001b[90m━━━━━━━━━━━━━━━━━━━━━━━━━━━━━━━━━━━━━━━━\u001b[0m \u001b[32m0.0/161.2 kB\u001b[0m \u001b[31m?\u001b[0m eta \u001b[36m-:--:--\u001b[0m\r\u001b[2K     \u001b[91m━━━━━━━━━━━━━━━━━━━━━━━━━━━━━━\u001b[0m\u001b[90m╺\u001b[0m\u001b[90m━━━━━━━━━\u001b[0m \u001b[32m122.9/161.2 kB\u001b[0m \u001b[31m3.8 MB/s\u001b[0m eta \u001b[36m0:00:01\u001b[0m\r\u001b[2K     \u001b[90m━━━━━━━━━━━━━━━━━━━━━━━━━━━━━━━━━━━━━━━━\u001b[0m \u001b[32m161.2/161.2 kB\u001b[0m \u001b[31m3.4 MB/s\u001b[0m eta \u001b[36m0:00:00\u001b[0m\n",
            "\u001b[?25h  Installing build dependencies ... \u001b[?25l\u001b[?25hdone\n",
            "  Getting requirements to build wheel ... \u001b[?25l\u001b[?25hdone\n",
            "  Preparing metadata (pyproject.toml) ... \u001b[?25l\u001b[?25hdone\n",
            "Building wheels for collected packages: glpk\n",
            "  \u001b[1;31merror\u001b[0m: \u001b[1msubprocess-exited-with-error\u001b[0m\n",
            "  \n",
            "  \u001b[31m×\u001b[0m \u001b[32mBuilding wheel for glpk \u001b[0m\u001b[1;32m(\u001b[0m\u001b[32mpyproject.toml\u001b[0m\u001b[1;32m)\u001b[0m did not run successfully.\n",
            "  \u001b[31m│\u001b[0m exit code: \u001b[1;36m1\u001b[0m\n",
            "  \u001b[31m╰─>\u001b[0m See above for output.\n",
            "  \n",
            "  \u001b[1;35mnote\u001b[0m: This error originates from a subprocess, and is likely not a problem with pip.\n",
            "  Building wheel for glpk (pyproject.toml) ... \u001b[?25l\u001b[?25herror\n",
            "\u001b[31m  ERROR: Failed building wheel for glpk\u001b[0m\u001b[31m\n",
            "\u001b[0mFailed to build glpk\n",
            "\u001b[31mERROR: Could not build wheels for glpk, which is required to install pyproject.toml-based projects\u001b[0m\u001b[31m\n",
            "\u001b[0m"
          ]
        }
      ]
    },
    {
      "cell_type": "code",
      "execution_count": 5,
      "id": "22c06b8e-a1a2-4562-987d-6d97499a0335",
      "metadata": {
        "id": "22c06b8e-a1a2-4562-987d-6d97499a0335"
      },
      "outputs": [],
      "source": [
        "import pulp as pp\n",
        "\n",
        "# Define the problem\n",
        "model = pp.LpProblem(name=\"supplement-problem\", sense=pp.LpMinimize)"
      ]
    },
    {
      "cell_type": "code",
      "execution_count": 6,
      "id": "2d3be911-a7f3-4716-8952-a3aec6b451d1",
      "metadata": {
        "id": "2d3be911-a7f3-4716-8952-a3aec6b451d1"
      },
      "outputs": [],
      "source": [
        "# Define the variables\n",
        "VegaVita = pp.LpVariable(name=\"VegaVita\", lowBound=0, cat='Integer')\n",
        "HappyHealth = pp.LpVariable(name=\"HappyHealth\", lowBound=0, cat='Integer')"
      ]
    },
    {
      "cell_type": "code",
      "execution_count": 7,
      "id": "50cdfeb9-8a2d-490e-be77-7f1be67d4bc0",
      "metadata": {
        "id": "50cdfeb9-8a2d-490e-be77-7f1be67d4bc0"
      },
      "outputs": [],
      "source": [
        "# Define the objective function (minimize cost)\n",
        "cost_VegaVita = 0.20\n",
        "cost_HappyHealth = 0.30\n",
        "obj_func = cost_VegaVita * VegaVita + cost_HappyHealth * HappyHealth\n",
        "model += obj_func"
      ]
    },
    {
      "cell_type": "code",
      "execution_count": 8,
      "id": "fcb7a37e-645b-4d32-b339-d5beeb06f4d9",
      "metadata": {
        "id": "fcb7a37e-645b-4d32-b339-d5beeb06f4d9"
      },
      "outputs": [],
      "source": [
        "# Define the constraints\n",
        "vitC_req = 60\n",
        "calcium_req = 1000\n",
        "iron_req = 18\n",
        "niacin_req = 20\n",
        "magnesium_req = 360\n",
        "\n",
        "vitC_VegaVita = 20\n",
        "calcium_VegaVita = 500\n",
        "iron_VegaVita = 9\n",
        "niacin_VegaVita = 2\n",
        "magnesium_VegaVita = 60\n",
        "\n",
        "vitC_HappyHealth = 30\n",
        "calcium_HappyHealth = 250\n",
        "iron_HappyHealth = 2\n",
        "niacin_HappyHealth = 10\n",
        "magnesium_HappyHealth = 90"
      ]
    },
    {
      "cell_type": "code",
      "execution_count": 9,
      "id": "8d425e6a-4fb8-4211-b256-be9a12d1ea8d",
      "metadata": {
        "id": "8d425e6a-4fb8-4211-b256-be9a12d1ea8d"
      },
      "outputs": [],
      "source": [
        "# Vitamin C constraint\n",
        "C1 = pp.LpConstraint(name='Vitamin C Constraint',\n",
        "                     e=vitC_VegaVita*VegaVita + vitC_HappyHealth*HappyHealth,\n",
        "                     rhs=vitC_req,\n",
        "                     sense=pp.LpConstraintGE)\n",
        "\n",
        "# Calcium constraint\n",
        "C2 = pp.LpConstraint(name='Calcium Constraint',\n",
        "                     e=calcium_VegaVita*VegaVita + calcium_HappyHealth*HappyHealth,\n",
        "                     rhs=calcium_req,\n",
        "                     sense=pp.LpConstraintGE)\n",
        "\n",
        "# Iron constraint\n",
        "C3 = pp.LpConstraint(name='Iron Constraint',\n",
        "                     e=iron_VegaVita*VegaVita + iron_HappyHealth*HappyHealth,\n",
        "                     rhs=iron_req,\n",
        "                     sense=pp.LpConstraintGE)\n",
        "\n",
        "# Niacin constraint\n",
        "C4 = pp.LpConstraint(name='Niacin Constraint',\n",
        "                     e=niacin_VegaVita*VegaVita + niacin_HappyHealth*HappyHealth,\n",
        "                     rhs=niacin_req,\n",
        "                     sense=pp.LpConstraintGE)\n",
        "\n",
        "# Magnesium constraint\n",
        "C5 = pp.LpConstraint(name='Magnesium Constraint',\n",
        "                     e=magnesium_VegaVita*VegaVita + magnesium_HappyHealth*HappyHealth,\n",
        "                     rhs=magnesium_req,\n",
        "                     sense=pp.LpConstraintGE)"
      ]
    },
    {
      "cell_type": "code",
      "execution_count": 10,
      "id": "7bc88ea0-a2c2-4625-bb6c-d21717f2aca6",
      "metadata": {
        "id": "7bc88ea0-a2c2-4625-bb6c-d21717f2aca6"
      },
      "outputs": [],
      "source": [
        "# Add constraints to the model\n",
        "model += C1\n",
        "model += C2\n",
        "model += C3\n",
        "model += C4\n",
        "model += C5"
      ]
    },
    {
      "cell_type": "code",
      "execution_count": 11,
      "id": "7a9d6366-7b79-4157-b5ea-6f2d7a159a1e",
      "metadata": {
        "colab": {
          "base_uri": "https://localhost:8080/",
          "height": 321
        },
        "id": "7a9d6366-7b79-4157-b5ea-6f2d7a159a1e",
        "outputId": "d18df046-cbf7-48e9-f906-344818ea2ddd"
      },
      "outputs": [
        {
          "output_type": "error",
          "ename": "PulpSolverError",
          "evalue": "Pulp: cannot execute cbc cwd: /content",
          "traceback": [
            "\u001b[0;31m---------------------------------------------------------------------------\u001b[0m",
            "\u001b[0;31mPulpSolverError\u001b[0m                           Traceback (most recent call last)",
            "\u001b[0;32m<ipython-input-11-55735e16a09f>\u001b[0m in \u001b[0;36m<cell line: 3>\u001b[0;34m()\u001b[0m\n\u001b[1;32m      1\u001b[0m \u001b[0;31m# Solve the problem\u001b[0m\u001b[0;34m\u001b[0m\u001b[0;34m\u001b[0m\u001b[0m\n\u001b[1;32m      2\u001b[0m \u001b[0msolver\u001b[0m \u001b[0;34m=\u001b[0m \u001b[0mpp\u001b[0m\u001b[0;34m.\u001b[0m\u001b[0mCOIN_CMD\u001b[0m\u001b[0;34m(\u001b[0m\u001b[0mmsg\u001b[0m\u001b[0;34m=\u001b[0m\u001b[0;32mFalse\u001b[0m\u001b[0;34m)\u001b[0m\u001b[0;34m\u001b[0m\u001b[0;34m\u001b[0m\u001b[0m\n\u001b[0;32m----> 3\u001b[0;31m \u001b[0mmodel\u001b[0m\u001b[0;34m.\u001b[0m\u001b[0msolve\u001b[0m\u001b[0;34m(\u001b[0m\u001b[0msolver\u001b[0m\u001b[0;34m)\u001b[0m\u001b[0;34m\u001b[0m\u001b[0;34m\u001b[0m\u001b[0m\n\u001b[0m",
            "\u001b[0;32m/usr/local/lib/python3.10/dist-packages/pulp/pulp.py\u001b[0m in \u001b[0;36msolve\u001b[0;34m(self, solver, **kwargs)\u001b[0m\n\u001b[1;32m   1881\u001b[0m         \u001b[0;31m# time it\u001b[0m\u001b[0;34m\u001b[0m\u001b[0;34m\u001b[0m\u001b[0m\n\u001b[1;32m   1882\u001b[0m         \u001b[0mself\u001b[0m\u001b[0;34m.\u001b[0m\u001b[0mstartClock\u001b[0m\u001b[0;34m(\u001b[0m\u001b[0;34m)\u001b[0m\u001b[0;34m\u001b[0m\u001b[0;34m\u001b[0m\u001b[0m\n\u001b[0;32m-> 1883\u001b[0;31m         \u001b[0mstatus\u001b[0m \u001b[0;34m=\u001b[0m \u001b[0msolver\u001b[0m\u001b[0;34m.\u001b[0m\u001b[0mactualSolve\u001b[0m\u001b[0;34m(\u001b[0m\u001b[0mself\u001b[0m\u001b[0;34m,\u001b[0m \u001b[0;34m**\u001b[0m\u001b[0mkwargs\u001b[0m\u001b[0;34m)\u001b[0m\u001b[0;34m\u001b[0m\u001b[0;34m\u001b[0m\u001b[0m\n\u001b[0m\u001b[1;32m   1884\u001b[0m         \u001b[0mself\u001b[0m\u001b[0;34m.\u001b[0m\u001b[0mstopClock\u001b[0m\u001b[0;34m(\u001b[0m\u001b[0;34m)\u001b[0m\u001b[0;34m\u001b[0m\u001b[0;34m\u001b[0m\u001b[0m\n\u001b[1;32m   1885\u001b[0m         \u001b[0mself\u001b[0m\u001b[0;34m.\u001b[0m\u001b[0mrestoreObjective\u001b[0m\u001b[0;34m(\u001b[0m\u001b[0mwasNone\u001b[0m\u001b[0;34m,\u001b[0m \u001b[0mdummyVar\u001b[0m\u001b[0;34m)\u001b[0m\u001b[0;34m\u001b[0m\u001b[0;34m\u001b[0m\u001b[0m\n",
            "\u001b[0;32m/usr/local/lib/python3.10/dist-packages/pulp/apis/coin_api.py\u001b[0m in \u001b[0;36mactualSolve\u001b[0;34m(self, lp, **kwargs)\u001b[0m\n\u001b[1;32m    110\u001b[0m     \u001b[0;32mdef\u001b[0m \u001b[0mactualSolve\u001b[0m\u001b[0;34m(\u001b[0m\u001b[0mself\u001b[0m\u001b[0;34m,\u001b[0m \u001b[0mlp\u001b[0m\u001b[0;34m,\u001b[0m \u001b[0;34m**\u001b[0m\u001b[0mkwargs\u001b[0m\u001b[0;34m)\u001b[0m\u001b[0;34m:\u001b[0m\u001b[0;34m\u001b[0m\u001b[0;34m\u001b[0m\u001b[0m\n\u001b[1;32m    111\u001b[0m         \u001b[0;34m\"\"\"Solve a well formulated lp problem\"\"\"\u001b[0m\u001b[0;34m\u001b[0m\u001b[0;34m\u001b[0m\u001b[0m\n\u001b[0;32m--> 112\u001b[0;31m         \u001b[0;32mreturn\u001b[0m \u001b[0mself\u001b[0m\u001b[0;34m.\u001b[0m\u001b[0msolve_CBC\u001b[0m\u001b[0;34m(\u001b[0m\u001b[0mlp\u001b[0m\u001b[0;34m,\u001b[0m \u001b[0;34m**\u001b[0m\u001b[0mkwargs\u001b[0m\u001b[0;34m)\u001b[0m\u001b[0;34m\u001b[0m\u001b[0;34m\u001b[0m\u001b[0m\n\u001b[0m\u001b[1;32m    113\u001b[0m \u001b[0;34m\u001b[0m\u001b[0m\n\u001b[1;32m    114\u001b[0m     \u001b[0;32mdef\u001b[0m \u001b[0mavailable\u001b[0m\u001b[0;34m(\u001b[0m\u001b[0mself\u001b[0m\u001b[0;34m)\u001b[0m\u001b[0;34m:\u001b[0m\u001b[0;34m\u001b[0m\u001b[0;34m\u001b[0m\u001b[0m\n",
            "\u001b[0;32m/usr/local/lib/python3.10/dist-packages/pulp/apis/coin_api.py\u001b[0m in \u001b[0;36msolve_CBC\u001b[0;34m(self, lp, use_mps)\u001b[0m\n\u001b[1;32m    119\u001b[0m         \u001b[0;34m\"\"\"Solve a MIP problem using CBC\"\"\"\u001b[0m\u001b[0;34m\u001b[0m\u001b[0;34m\u001b[0m\u001b[0m\n\u001b[1;32m    120\u001b[0m         \u001b[0;32mif\u001b[0m \u001b[0;32mnot\u001b[0m \u001b[0mself\u001b[0m\u001b[0;34m.\u001b[0m\u001b[0mexecutable\u001b[0m\u001b[0;34m(\u001b[0m\u001b[0mself\u001b[0m\u001b[0;34m.\u001b[0m\u001b[0mpath\u001b[0m\u001b[0;34m)\u001b[0m\u001b[0;34m:\u001b[0m\u001b[0;34m\u001b[0m\u001b[0;34m\u001b[0m\u001b[0m\n\u001b[0;32m--> 121\u001b[0;31m             raise PulpSolverError(\n\u001b[0m\u001b[1;32m    122\u001b[0m                 \u001b[0;34mf\"Pulp: cannot execute {self.path} cwd: {os.getcwd()}\"\u001b[0m\u001b[0;34m\u001b[0m\u001b[0;34m\u001b[0m\u001b[0m\n\u001b[1;32m    123\u001b[0m             )\n",
            "\u001b[0;31mPulpSolverError\u001b[0m: Pulp: cannot execute cbc cwd: /content"
          ]
        }
      ],
      "source": [
        "# Solve the problem\n",
        "solver = pp.COIN_CMD(msg=False)\n",
        "model.solve(solver)"
      ]
    },
    {
      "cell_type": "code",
      "execution_count": 12,
      "id": "fae8dee1-b97e-41c4-a6e9-9c0ef1f1067e",
      "metadata": {
        "colab": {
          "base_uri": "https://localhost:8080/"
        },
        "id": "fae8dee1-b97e-41c4-a6e9-9c0ef1f1067e",
        "outputId": "459c83d2-2f38-4aaa-dcdf-c2c4a39de37a"
      },
      "outputs": [
        {
          "output_type": "stream",
          "name": "stdout",
          "text": [
            "{'Model Status': 'Not Solved', 'Optimal Solution': None, 'HappyHealth': None, 'VegaVita': None}\n"
          ]
        }
      ],
      "source": [
        "# Print the results\n",
        "Results = {\"Model Status\": pp.LpStatus[model.status]}\n",
        "Results.update({\"Optimal Solution\": pp.value(model.objective)})\n",
        "Results.update({v.name: v.varValue for v in model.variables()})\n",
        "print(Results)"
      ]
    }
  ],
  "metadata": {
    "kernelspec": {
      "display_name": "Python 3 (ipykernel)",
      "language": "python",
      "name": "python3"
    },
    "language_info": {
      "codemirror_mode": {
        "name": "ipython",
        "version": 3
      },
      "file_extension": ".py",
      "mimetype": "text/x-python",
      "name": "python",
      "nbconvert_exporter": "python",
      "pygments_lexer": "ipython3",
      "version": "3.11.7"
    },
    "colab": {
      "provenance": []
    }
  },
  "nbformat": 4,
  "nbformat_minor": 5
}